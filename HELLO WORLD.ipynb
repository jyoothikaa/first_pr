{
 "cells": [
  {
   "cell_type": "code",
   "execution_count": 1,
   "id": "472b97f5",
   "metadata": {},
   "outputs": [
    {
     "name": "stdout",
     "output_type": "stream",
     "text": [
      "hello world\n"
     ]
    }
   ],
   "source": [
    "print(\"hello world\")"
   ]
  },
  {
   "cell_type": "code",
   "execution_count": 3,
   "id": "6024ed46",
   "metadata": {},
   "outputs": [
    {
     "name": "stdout",
     "output_type": "stream",
     "text": [
      "The total price for 60 books including shipping and discount is:\n",
      "Total price of the bood is:898.1999999999999\n",
      "Total Shipping is:47.25\n",
      "The Total price is:945.4499999999999\n"
     ]
    }
   ],
   "source": [
    "bookPrice=24.95\n",
    "discount=.60\n",
    "shippingPriceRest=.75\n",
    "shippingPriceFirst=3.00\n",
    "totalUnits=60\n",
    "totalCostBeforeShipping=(bookPrice*discount)*totalUnits\n",
    "shipping=(shippingPriceRest*(totalUnits-1))+shippingPriceFirst\n",
    "result=totalCostBeforeShipping+shipping\n",
    "print('The total price for 60 books including shipping and discount is:')\n",
    "print('Total price of the bood is:'+ str(totalCostBeforeShipping))\n",
    "print('Total Shipping is:'+str(shipping))\n",
    "print('The Total price is:'+str(result))"
   ]
  },
  {
   "cell_type": "code",
   "execution_count": 4,
   "id": "99cae219",
   "metadata": {},
   "outputs": [
    {
     "name": "stdout",
     "output_type": "stream",
     "text": [
      "The total price for 60 books including shipping and discount is:\n",
      "Total price of the bood is:898.1999999999999\n",
      "Total Shipping is:47.25\n",
      "The Total price is:945.4499999999999\n"
     ]
    }
   ],
   "source": [
    "bookPrice=24.95\n",
    "discount=.60\n",
    "shippingPriceRest=.75\n",
    "shippingPriceFirst=3.00\n",
    "totalUnits=60\n",
    "totalCostBeforeShipping=(bookPrice*discount)*totalUnits\n",
    "shipping=(shippingPriceRest*(totalUnits-1))+shippingPriceFirst\n",
    "result=totalCostBeforeShipping+shipping\n",
    "print('The total price for 60 books including shipping and discount is:')\n",
    "print('Total price of the bood is:'+ str(totalCostBeforeShipping))\n",
    "print('Total Shipping is:'+str(shipping))\n",
    "print('The Total price is:'+str(result))"
   ]
  },
  {
   "cell_type": "code",
   "execution_count": 5,
   "id": "5ab62e7d",
   "metadata": {},
   "outputs": [
    {
     "name": "stdout",
     "output_type": "stream",
     "text": [
      "enter a value6\n",
      "enter b value8\n",
      "enter c value5\n",
      "the max is 8\n",
      "minimum number 5\n"
     ]
    }
   ],
   "source": [
    "a=int(input(\"enter a value\"))\n",
    "b=int(input(\"enter b value\"))\n",
    "c=int(input(\"enter c value\"))\n",
    "max=a if(a>b) and  (a>c) else b if(b>c) else c\n",
    "print(\"the max is\",max)          \n",
    "min=a if(a<b) and (a<c) else b if(b<c) else c\n",
    "print(\"minimum number\",min)"
   ]
  },
  {
   "cell_type": "code",
   "execution_count": 6,
   "id": "0735a92a",
   "metadata": {},
   "outputs": [
    {
     "name": "stdout",
     "output_type": "stream",
     "text": [
      "enter the value:100\n",
      "212.0\n"
     ]
    }
   ],
   "source": [
    "c=int(input(\"enter the value:\"))\n",
    "f=(9/5)*c+32\n",
    "print(f)"
   ]
  },
  {
   "cell_type": "code",
   "execution_count": 7,
   "id": "322f8389",
   "metadata": {},
   "outputs": [
    {
     "name": "stdout",
     "output_type": "stream",
     "text": [
      "enter the value of a8\n",
      "enter the value of b9\n",
      "9\n"
     ]
    }
   ],
   "source": [
    "a=int(input(\"enter the value of a\"))\n",
    "b=int(input(\"enter the value of b\"))\n",
    "max=a if(a>b) else b\n",
    "print(max)"
   ]
  },
  {
   "cell_type": "code",
   "execution_count": 8,
   "id": "7d331cbe",
   "metadata": {},
   "outputs": [
    {
     "name": "stdout",
     "output_type": "stream",
     "text": [
      "enter the value81\n",
      "9.0\n"
     ]
    }
   ],
   "source": [
    "n=int(input(\"enter the value\"))\n",
    "sqrt=n**0.5\n",
    "print(sqrt)"
   ]
  },
  {
   "cell_type": "code",
   "execution_count": null,
   "id": "2772defb",
   "metadata": {},
   "outputs": [],
   "source": []
  }
 ],
 "metadata": {
  "kernelspec": {
   "display_name": "Python 3 (ipykernel)",
   "language": "python",
   "name": "python3"
  },
  "language_info": {
   "codemirror_mode": {
    "name": "ipython",
    "version": 3
   },
   "file_extension": ".py",
   "mimetype": "text/x-python",
   "name": "python",
   "nbconvert_exporter": "python",
   "pygments_lexer": "ipython3",
   "version": "3.11.5"
  }
 },
 "nbformat": 4,
 "nbformat_minor": 5
}
